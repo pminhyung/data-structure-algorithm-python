{
 "cells": [
  {
   "cell_type": "markdown",
   "metadata": {},
   "source": [
    "# 안녕, 자료구조 & 알고리즘!"
   ]
  },
  {
   "cell_type": "markdown",
   "metadata": {},
   "source": [
    "자료구조 왜 알아야하지?\n",
    "- 기본 제공 데이터 구조가 다 있는데(str, dict, tuple, list, ..)"
   ]
  },
  {
   "cell_type": "code",
   "execution_count": null,
   "metadata": {},
   "outputs": [],
   "source": [
    "max : 원래 일일이 다 봐야"
   ]
  },
  {
   "cell_type": "markdown",
   "metadata": {},
   "source": [
    "어떤 자료구조를 선택해서 무슨문제를 풀 것인가?\n",
    "- 내가 가진 자료구조가 어떤 성질을 가지는가?\n",
    "- 자료구조란 데이터에 대해 가능한 연산들을 가지는 구조"
   ]
  },
  {
   "cell_type": "markdown",
   "metadata": {},
   "source": [
    "알고리즘이란? (algorithm)  \n",
    "- 사전적정의 : 어떤 문제를 해결하기 위한 절차, 방법, 명령어들의 집합\n",
    "- `프로그래밍 : 주어진 문제의 해결을 위한 자료구조와 연산 방법에 대한 선택`\n",
    "        "
   ]
  },
  {
   "cell_type": "markdown",
   "metadata": {},
   "source": [
    "해결하고자 하는 문제에 따라 (응용 종류와 범위에 따라) 최적의 해법은 서로 다르다!  \n",
    "-> 이 선택을 어떻게 해야 하느냐를 알기 위해 자료구조를 이해해야함"
   ]
  },
  {
   "cell_type": "code",
   "execution_count": null,
   "metadata": {},
   "outputs": [],
   "source": [
    "#입력으로 주어지는 리스트 x의 첫 원소와 마지막 원소의 합을 리턴하는 함수 solution()을 완성하세요\n",
    "def solution(x):\n",
    "    return x[0] + x[-1]"
   ]
  }
 ],
 "metadata": {
  "kernelspec": {
   "display_name": "Python 3",
   "language": "python",
   "name": "python3"
  },
  "language_info": {
   "codemirror_mode": {
    "name": "ipython",
    "version": 3
   },
   "file_extension": ".py",
   "mimetype": "text/x-python",
   "name": "python",
   "nbconvert_exporter": "python",
   "pygments_lexer": "ipython3",
   "version": "3.7.4"
  }
 },
 "nbformat": 4,
 "nbformat_minor": 4
}
