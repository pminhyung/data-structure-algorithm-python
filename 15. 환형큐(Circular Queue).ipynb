{
 "cells": [
  {
   "cell_type": "markdown",
   "metadata": {},
   "source": [
    "### 환형큐 : data 수에 따라 모두 이동해야하는 복잡도증가문제 해결\n",
    "\n",
    "- 자료 생성과 자료 이용이 비동기적(asynchronously) 일어나는 경우\n",
    "- 자료 생성이 여러주체에 의해 이루어지는 경우\n",
    "- 자료 이용이 여러주체에 의해 이루어지는 경우\n",
    "- 자료 생성과 그 자료를 이용하는 쪽이 각각 동시에 여러주체에 의해 이루어지는 경우\n",
    "- 자료를 처리하여 새로운 자료를 생성하고, 나중에 그 자료를 또 처리해야 하는 작업의 경우\n",
    "- 마지막 원소와 처음원소가 이어져있음"
   ]
  },
  {
   "cell_type": "markdown",
   "metadata": {},
   "source": [
    "- 정해진 개수의 저장 공간을 연결하여 사용\n",
    "- 큐의 원소 개수를 정하고, 선형 배열을 이용해서 큐를 효과적으로 구현한다.\n",
    "- 선형 배열의 한쪽 끝과 다른 쪽 끝이 연결된 원형, 환형으로 보고, \n",
    "- 큐의 맨 앞과 맨 뒤를 가리키는 즉, Enqueue 인덱스와 Dequeue 인덱스를 기억해 두면 Dequeue된 공간을 재활용한다."
   ]
  },
  {
   "cell_type": "markdown",
   "metadata": {},
   "source": [
    "- 정해진 길이 n의 리스트를 확보\n",
    "- Q.enqueue(A) -> rear가 A를 가리킴\n",
    "- Q.enqueue(B) - > rear 가 B를 가리킴\n",
    "- Q.enqueue(C) - > rear 가 C를 가리킴\n",
    "- r1 = Q.dequeue() -> front는 A를 가리키게 하고 dequeue\n",
    "- r2 = Q.dequeue() -> front는 B를 가리키게 하고 dequeue\n",
    "- 최대길이로 인해 rear, front가 맨뒤에서 맨앞으로 이동할 수 있어야함"
   ]
  },
  {
   "cell_type": "code",
   "execution_count": null,
   "metadata": {},
   "outputs": [],
   "source": [
    "class CircularQueue:\n",
    "\n",
    "    def __init__(self, n):\n",
    "        self.maxCount = n\n",
    "        self.data = [None] * n\n",
    "        self.count = 0\n",
    "        self.front = -1 # dequeue될 data로 이동한 후에, dequeue로 data가 존재하지 않아도 해당 자리에 위치\n",
    "        self.rear = -1 # enqueue된 data에 위치함\n",
    "\n",
    "\n",
    "    def size(self):\n",
    "        return self.count\n",
    "\n",
    "    def isEmpty(self):\n",
    "        return self.count == 0\n",
    "\n",
    "    def isFull(self):\n",
    "        return self.count == self.maxCount\n",
    "\n",
    "    def enqueue(self, x):\n",
    "        if self.isFull():\n",
    "            raise IndexError('Queue full')\n",
    "        self.rear = (self.rear+1)%self.maxCount # 환형큐이므로, 마지막인덱스에서 다시 처음으로 오는 경우에 대한 예외처리필요\n",
    "\n",
    "        self.data[self.rear] = x\n",
    "        self.count += 1\n",
    "\n",
    "    def dequeue(self):\n",
    "        if self.isEmpty():\n",
    "            raise IndexError('Queue empty')\n",
    "        self.front = (self.front+1)%self.maxCount #\n",
    "\n",
    "        x = self.data[self.front]\n",
    "\n",
    "        self.count -= 1\n",
    "        return x\n",
    "\n",
    "    def peek(self):\n",
    "        if self.isEmpty():\n",
    "            raise IndexError('Queue empty')\n",
    "        return self.data[(self.front+1)%self.maxCount] #"
   ]
  }
 ],
 "metadata": {
  "kernelspec": {
   "display_name": "tensorflow",
   "language": "python",
   "name": "tensorflow"
  },
  "language_info": {
   "codemirror_mode": {
    "name": "ipython",
    "version": 3
   },
   "file_extension": ".py",
   "mimetype": "text/x-python",
   "name": "python",
   "nbconvert_exporter": "python",
   "pygments_lexer": "ipython3",
   "version": "3.7.7"
  }
 },
 "nbformat": 4,
 "nbformat_minor": 4
}
