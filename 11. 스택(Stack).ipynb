{
 "cells": [
  {
   "cell_type": "code",
   "execution_count": null,
   "metadata": {},
   "outputs": [],
   "source": [
    "# LIFO: 나중에 들어간 data가 먼저 나온다\n",
    "# list를 사용했기 때문에 data 수에 따라 복잡도 증가 (이를 위해 다음 파일에서 doublylinkedlist 사용)\n",
    "class ArrayStack:\n",
    "\n",
    "    def __init__(self):\n",
    "        self.data = []\n",
    "\n",
    "    def size(self):\n",
    "        return len(self.data)\n",
    "\n",
    "    def isEmpty(self):\n",
    "        return self.size() == 0\n",
    "\n",
    "    def push(self, item):\n",
    "        self.data.append(item)\n",
    "\n",
    "    def pop(self):\n",
    "        return self.data.pop()\n",
    "\n",
    "    def peek(self):\n",
    "        return self.data[-1]\n",
    "\n",
    "\n",
    "def check_paren(expr):\n",
    "    \n",
    "    match = {\n",
    "        ')': '(',\n",
    "        '}': '{',\n",
    "        ']': '['\n",
    "    }\n",
    "    \n",
    "    S = ArrayStack()\n",
    "    \n",
    "    for c in expr:\n",
    "        if c in '({[':\n",
    "            S.push(c)\n",
    "        elif c in match:\n",
    "            if S.isEmpty():\n",
    "                return False\n",
    "            else:\n",
    "                t = S.pop()\n",
    "                if t != match[c]:\n",
    "                    return False\n",
    "    return S.isEmpty()"
   ]
  }
 ],
 "metadata": {
  "kernelspec": {
   "display_name": "Python 3",
   "language": "python",
   "name": "python3"
  },
  "language_info": {
   "codemirror_mode": {
    "name": "ipython",
    "version": 3
   },
   "file_extension": ".py",
   "mimetype": "text/x-python",
   "name": "python",
   "nbconvert_exporter": "python",
   "pygments_lexer": "ipython3",
   "version": "3.7.7"
  }
 },
 "nbformat": 4,
 "nbformat_minor": 4
}
