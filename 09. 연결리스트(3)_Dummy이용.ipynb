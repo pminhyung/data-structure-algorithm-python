{
 "cells": [
  {
   "cell_type": "markdown",
   "metadata": {},
   "source": [
    "# 연결리스트(Linked List) 3"
   ]
  },
  {
   "cell_type": "markdown",
   "metadata": {},
   "source": [
    "- 특정 위치를 지정하여 원소를 삽입/삭제하는 연산 -> 이번에는 특정 원소의 다음을 지정하여 연산\n",
    "- 연결 리스트의 맨 앞에다가 데이터 원소를 담고 있지 않은, dummy node를 추가"
   ]
  },
  {
   "cell_type": "markdown",
   "metadata": {},
   "source": [
    "#### 삽입과 삭제가 유연하다는 장점을 살린 연결 리스트 구현"
   ]
  },
  {
   "cell_type": "code",
   "execution_count": null,
   "metadata": {},
   "outputs": [],
   "source": [
    "class LinkedList:\n",
    "\n",
    "    def __init__(self):\n",
    "        self.nodeCount = 0\n",
    "        self.head = Node(None) # pos 0의 위치를 가진 Dummy Node 추가\n",
    "        self.tail = None\n",
    "        self.head.next = self.tail"
   ]
  },
  {
   "cell_type": "code",
   "execution_count": null,
   "metadata": {},
   "outputs": [],
   "source": [
    "# 1. 리스트 순회\n",
    "\n",
    "# while문에 curr.next를 이용(dummy의 next가 pos==1)\n",
    "\n",
    "def traverse(self):\n",
    "        result = []\n",
    "        curr = self.head\n",
    "        while curr.next:\n",
    "            curr = curr.next\n",
    "            result.append(curr.data)\n",
    "        return result"
   ]
  },
  {
   "cell_type": "code",
   "execution_count": null,
   "metadata": {},
   "outputs": [],
   "source": [
    "# 2. k번째 원소 찾기\n",
    "\n",
    "# i가 0부터 시작\n",
    "    def getAt(self, pos):\n",
    "        if pos < 0 or pos > self.nodeCount:\n",
    "            return None\n",
    "\n",
    "        i = 0\n",
    "        curr = self.head\n",
    "        while i < pos:\n",
    "            curr = curr.next\n",
    "            i += 1\n",
    "\n",
    "        return curr"
   ]
  },
  {
   "cell_type": "code",
   "execution_count": null,
   "metadata": {},
   "outputs": [],
   "source": [
    "# 3. 원소 삽입 \n",
    "\n",
    "# 리스트 끝에 추가 상황 주의\n",
    "# insertAfter메소드를 return\n",
    "# 처음 원소 추가해도 dummy가 있어 예외처리 필요X\n",
    "\n",
    "    def insertAfter(self, prev, newNode):\n",
    "        newNode.next = prev.next\n",
    "        if prev.next is None: # 리스트 끝에 추가\n",
    "            self.tail = newNode\n",
    "        prev.next = newNode\n",
    "        self.nodeCount += 1\n",
    "        return True\n",
    "\n",
    "\n",
    "    def insertAt(self, pos, newNode):\n",
    "        if pos < 1 or pos > self.nodeCount + 1:\n",
    "            return False\n",
    "\n",
    "        if pos != 1 and pos == self.nodeCount + 1: # 리스트 끝에 삽입 - 빈 리스트가 아닐 때\n",
    "            prev = self.tail\n",
    "        else:\n",
    "            prev = self.getAt(pos - 1)\n",
    "        return self.insertAfter(prev, newNode)"
   ]
  },
  {
   "cell_type": "code",
   "execution_count": 36,
   "metadata": {},
   "outputs": [],
   "source": [
    "# 4. 원소 삭제\n",
    "\n",
    "# 빈 리스트 일 때 (dummy만 존재) : return None\n",
    "# 마지막 node 삭제 시(prev.next == self.tail == None) : prev.next = None / self.tail = prev\n",
    "\n",
    "    def popAfter(self, prev):\n",
    "        if prev.next == None: # 빈 리스트 일 때\n",
    "            return None\n",
    "        \n",
    "        curr = prev.next\n",
    "        \n",
    "        if self.nodeCount == 1:\n",
    "            self.head.next = self.tail = None # 초기 생성조건과 일치시킨다\n",
    "\n",
    "        elif curr == self.tail: # 여러원소 중 마지막 원소삭제 시 (curr==None도 O)\n",
    "            prev.next = None\n",
    "            self.tail = prev\n",
    "            \n",
    "        else:\n",
    "            prev.next = curr.next\n",
    "            \n",
    "        self.nodeCount -= 1\n",
    "        return curr.data\n",
    "        \n",
    "        \n",
    "    def popAt(self, pos):\n",
    "        if pos < 1 or pos > self.nodeCount:\n",
    "            raise IndexError\n",
    "        prev = self.getAt(pos-1)\n",
    "        return self.popAfter(prev)\n",
    "    \n",
    "# 오답노트 : \n",
    "# pos 유효성 검사에서 pos < 0 -> pos < 1 (insert와 달리 pos를 0으로 받아 필요한 작업존재X)\n",
    "# return None -> raise IndexError(문제 요구사항 파악하기)"
   ]
  }
 ],
 "metadata": {
  "kernelspec": {
   "display_name": "Python 3",
   "language": "python",
   "name": "python3"
  },
  "language_info": {
   "codemirror_mode": {
    "name": "ipython",
    "version": 3
   },
   "file_extension": ".py",
   "mimetype": "text/x-python",
   "name": "python",
   "nbconvert_exporter": "python",
   "pygments_lexer": "ipython3",
   "version": "3.7.4"
  }
 },
 "nbformat": 4,
 "nbformat_minor": 4
}
