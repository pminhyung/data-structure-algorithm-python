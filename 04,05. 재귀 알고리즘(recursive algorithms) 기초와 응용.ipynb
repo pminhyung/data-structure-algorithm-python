{
 "cells": [
  {
   "cell_type": "markdown",
   "metadata": {},
   "source": [
    "# 재귀 알고리즘"
   ]
  },
  {
   "cell_type": "markdown",
   "metadata": {},
   "source": [
    "- 재귀 알고리즘이라고 불리는 것들이 있는데 이것은 알고리즘 이름이 아닌 성질이다  \n",
    "- 주어진 문제가 있을 때 이것을 같은 종류의 보다 쉬운 문제의 답을 이용해서 풀 수 있는 성질을 이용해서, 같은 알고리즘을 반복적으로 적용함으로써 풀어내는 방법  \n",
    "  \n",
    "- `하나의 함수에서 자신을 다시 호출하여 작업을 수행하는 것`\n",
    "\n",
    "- 사람의 생각을 편하게 나타낼 수 있는 장점, 그러나 효율적이지 않은 경우도 많다"
   ]
  },
  {
   "cell_type": "code",
   "execution_count": null,
   "metadata": {},
   "outputs": [],
   "source": [
    "# 1) 1부터 n까지 모든 자연수의 합을 구하시오\n",
    "def sum(n):\n",
    "  ### 재귀 호출의 종결 조건 매우 중요\n",
    "  if n <= 1:\n",
    "    return n\n",
    "  else:\n",
    "  \treturn n + sum(n-1)"
   ]
  },
  {
   "cell_type": "markdown",
   "metadata": {},
   "source": [
    "재귀 알고리즘에서 종결 조건 필수  \n",
    "효율은 ?"
   ]
  },
  {
   "cell_type": "code",
   "execution_count": null,
   "metadata": {},
   "outputs": [],
   "source": [
    "# 2) 1)을 재귀가 아닌 반복문\n",
    "def sum(n):\n",
    "    s = 0\n",
    "    while(n >= 0):\n",
    "        s+= n\n",
    "        n-= 1\n",
    "    return s"
   ]
  },
  {
   "cell_type": "markdown",
   "metadata": {},
   "source": [
    "복잡도 측면\n",
    "- 재귀함수 : O(n)\n",
    "- 반복문 : O(n)\n",
    "\n",
    "효율성 측면\n",
    "- 재귀함수 : 매번 함수를 호출하기 때문에 상대적으로 비효율적이다."
   ]
  },
  {
   "cell_type": "code",
   "execution_count": null,
   "metadata": {},
   "outputs": [],
   "source": [
    "# 재귀함수가 무조건 효율적인가? 아니다\n",
    "# O(1)을 가지는 sum(n)\n",
    "def sum(n):\n",
    "    return n*(n+1)/2"
   ]
  },
  {
   "cell_type": "code",
   "execution_count": null,
   "metadata": {},
   "outputs": [],
   "source": [
    "# 재귀함수의 예시 2)\n",
    "def factorial(n):\n",
    "    if n<=1:\n",
    "        return 1\n",
    "    else:\n",
    "        return n * factorial(n-1)"
   ]
  },
  {
   "cell_type": "code",
   "execution_count": null,
   "metadata": {},
   "outputs": [],
   "source": [
    "# 재귀함수를 이용한 fibonacci 순열\n",
    "f0 = 0\n",
    "f1 = 1\n",
    "fn = fn-1 + fn-2, n >= 2\n",
    "\n",
    "def solution(x):\n",
    "    if x < 2:\n",
    "        return x\n",
    "    else:\n",
    "        return solution(x-1) + solution(x-2)"
   ]
  },
  {
   "cell_type": "code",
   "execution_count": null,
   "metadata": {},
   "outputs": [],
   "source": [
    "# 반복문을 이용한 fibonacci 순열\n",
    "def solution(x):\n",
    "    if x < 2:\n",
    "        return x\n",
    "    else:\n",
    "        a = 0\n",
    "        b = 1\n",
    "        for _ in range(x-1): # 2일 때 1번 반복\n",
    "            a, b = b, a + b\n",
    "        return b"
   ]
  },
  {
   "cell_type": "code",
   "execution_count": 2,
   "metadata": {},
   "outputs": [],
   "source": [
    "# 조합의 수 계산\n",
    "# 문제: n개의 서로 다른 원소에서 m개를 택하는 경우의 수\n",
    "from math import factorial as f\n",
    "\n",
    "def combi(n, m):\n",
    "    return f(n)/(f(m)*f(n-m))"
   ]
  },
  {
   "cell_type": "code",
   "execution_count": null,
   "metadata": {},
   "outputs": [],
   "source": [
    "# 재귀적 방법 - 조합의 수\n",
    "# nCr = n-1Cr-1 + n-1Cr\n",
    "# 한개의 원소 입장에서 볼 때: 조합의 수 = 자신을 포함하는 경우 + 자신을 포함하지 않는 경우\n",
    "def combi(n, m):\n",
    "    if(n == m):\n",
    "        return 1\n",
    "    elif(m == 0):\n",
    "        return 1\n",
    "    else:\n",
    "        return combi(n-1, m) + combi(n-1, m-1)"
   ]
  },
  {
   "cell_type": "markdown",
   "metadata": {},
   "source": [
    "### 재귀적 이진탐색\n",
    "설명\n",
    "리스트 L 과, 그 안에서 찾으려 하는 원소 x 가 인자로 주어지고, 또한 탐색의 대상이 되는 리스트 내에서의 범위 인덱스가 l 부터 u 까지로 (인자로) 정해질 때, x 와 같은 값을 가지는 원소의 인덱스를 리턴하는 함수 solution() 을 완성하세요. 만약 리스트 L 안에 x 와 같은 값을 가지는 원소가 존재하지 않는 경우에는 -1 을 리턴합니다. 리스트 L 은 자연수 원소들로 이루어져 있으며, 크기 순으로 정렬되어 있다고 가정합니다. 또한, 동일한 원소는 두 번 이상 나타나지 않습니다.\n",
    "  \n",
    "인덱스 범위를 나타내는 l 과 u 가 인자로 주어지는 이유는, 이 함수를 재귀적인 방법으로 구현하기 위함입니다. 빈 칸에 알맞은 내용을 채워서 재귀 함수인 solution() 을 완성하세요.  \n",
    "  \n",
    "예를 들어,  \n",
    "L = [2, 3, 5, 6, 9, 11, 15]  \n",
    "x = 6  \n",
    "l = 0  \n",
    "u = 6  \n",
    "의 인자들이 주어지면, L[3] == 6 이므로 3 을 리턴해야 합니다.  \n",
    "  \n",
    "또 다른 예로,  \n",
    "L = [2, 5, 7, 9, 11]  \n",
    "x = 4  \n",
    "l = 0  \n",
    "u = 4  \n",
    "로 주어지면, 리스트 L 내에 4 의 원소가 존재하지 않으므로 -1 을 리턴해야 합니다.  "
   ]
  },
  {
   "cell_type": "code",
   "execution_count": null,
   "metadata": {},
   "outputs": [],
   "source": [
    "def binsearch_recurion(L, x, l, u):\n",
    "    if l>u:\n",
    "        return -1\n",
    "    mid = (l + u) // 2\n",
    "    \n",
    "    if x == L[mid]:\n",
    "        return mid\n",
    "    elif x < L[mid]:\n",
    "        return binsearch_recurion(L, x, l, mid-1)\n",
    "    else:\n",
    "        return binsearch_recurion(L, x, mid+1, u)\n",
    "\n",
    "# x가 존재하지 않을 때 마지막 상황에는 두 경우 (x가 mid 보다 크거나 작을 때) 모두 u가 감소하거나 l이 증가하여 l>u 되는 상황\n",
    "# 따라서 l > u 를 -1을 출력하는 조건으로 설정"
   ]
  }
 ],
 "metadata": {
  "kernelspec": {
   "display_name": "Python 3",
   "language": "python",
   "name": "python3"
  },
  "language_info": {
   "codemirror_mode": {
    "name": "ipython",
    "version": 3
   },
   "file_extension": ".py",
   "mimetype": "text/x-python",
   "name": "python",
   "nbconvert_exporter": "python",
   "pygments_lexer": "ipython3",
   "version": "3.7.4"
  }
 },
 "nbformat": 4,
 "nbformat_minor": 4
}
