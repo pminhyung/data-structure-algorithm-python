{
 "cells": [
  {
   "cell_type": "markdown",
   "metadata": {},
   "source": [
    "# 연결 리스트(Linked Lists)"
   ]
  },
  {
   "cell_type": "markdown",
   "metadata": {},
   "source": [
    "### 추상적 자료구조(Abstract Data Structures)\n",
    "__자료구조의 내부 구현은 숨겨두고 밖에서 보이는 것들 두 가지를 제공하는 자료구조__\n",
    "- 데이터(Data) : 정수, 문자열, 레코드…\n",
    "- 연산들(A set of operations) : 삽입, 삭제, 순회, 정렬, 탐색…"
   ]
  },
  {
   "cell_type": "markdown",
   "metadata": {},
   "source": [
    "### 연결 리스트란(Linked Lists)\n",
    "데이터 원소들의 순서를 지어 늘어놓는다는 점에서 연결 리스트(Linked list)는 선형 배열(Linear array)과 비슷한 면이 있지만, 데이터 원소들을 늘어놓는 방식에서 큰 차이가 있다.  \n",
    "- 선형배열 : 번호가 붙여진 칸에 원소들을 채워넣는 방식  \n",
    "- 연결 리스트 : 각 원소들을 연결하여 관리하는 방식"
   ]
  },
  {
   "cell_type": "markdown",
   "metadata": {},
   "source": [
    "#### 기본적인 연결 리스트의 추상적 자료구조\n",
    "- Node : Data(자료), Link(next: '다음 노드가 어디인가')\n",
    "- Node내의 데이터는 다른 구조로 이루어질 수 있다\n",
    "  \n",
    "- 리스트의 맨 앞 노드는 Head(처음에 어떤 리스트를 찾을 수 있음)\n",
    "- 리스트의 맨 끝 노드는 Tail(리스트 맨 끝에 작업을 할 때 효율적)"
   ]
  },
  {
   "cell_type": "markdown",
   "metadata": {},
   "source": [
    "#### 연결 리스트의 장점?\n",
    "- 연결 리스트에서는 원소들이 링크(link)로 연결되어 있으므로, 가운데에서 하나를 삭제하거나, 가운데를 끊고 그 자리에 다른 원소(들)를 삽입하는 것이 선형 배열의 경우보다 쉽다(빠른 시간 내에 처리할 수 있다)\n",
    "- 따라서 __원소의 삽입 / 삭제__가 빈번히 일어나는 응용에서 많이 이용"
   ]
  },
  {
   "cell_type": "markdown",
   "metadata": {},
   "source": [
    "#### 연결 리스트의 단점?  \n",
    "- 선형 배열에 비해서 데이터 구조 표현에 소요되는 __저장공간(메모리) 소요가 크다__는 점\n",
    "- 링크 또한 메모리에 저장되어 있어야 하므로, 연결 리스트를 표현하기 위해서는 동일한 데이터 원소들을 담기 위하여 사용하는 메모리 요구량이 더 크다\n",
    "- __k번째의 원소를 찾아가는데 시간이 오래걸린다__\n",
    "- 선형배열에서는 데이터 원소들이 번호가 붙여진 칸들에 들어있으므로 그 번호를 이용해서 특정 번째의 원소를 찾아갈 수 있다\n",
    "- 연결 리스트에서는 단지 원소들이 고리로 연결된 모습을 하고 있으므로 특정 번째의 원소를 접근하려면 앞에서부터 하나씩 링크를 따라가면서 찾아가야 한다"
   ]
  },
  {
   "cell_type": "code",
   "execution_count": null,
   "metadata": {},
   "outputs": [],
   "source": [
    "class Node:\n",
    "    # 생성자\n",
    "    def __init__(self, item):\n",
    "        self.data = item\n",
    "        self.next = None\n",
    "\n",
    "# 비어있는 연결 리스트\n",
    "class LinkedList:\n",
    "    def __init__(self):\n",
    "        self.nodeCount = 0\n",
    "        self.head = None\n",
    "        self.tail = None"
   ]
  },
  {
   "cell_type": "markdown",
   "metadata": {},
   "source": [
    "#### 추상적 자료구조의 __연산__\n",
    "- 특정 원소 참조(__k__번째)\n",
    "- 리스트 순회\n",
    "- 연결리스트의 길이 \n",
    "- 원소 삽입 / 삭제\n",
    "- 두 리스트 합치기\n",
    "- 특정 원소 참조"
   ]
  },
  {
   "cell_type": "code",
   "execution_count": null,
   "metadata": {},
   "outputs": [],
   "source": [
    "# 특정원소 참조 - k번째 노드 찾아가기\n",
    "# 예시 - 연결리스트: 1(67 - Head) -> 2(24) -> 3(58 - Tail)\n",
    "## LinkedList의 메소드\n",
    "def getAt(self, pos);\n",
    "\tif pos <= 0 or pos > self.nodeCount:\n",
    "        return None\n",
    "    i = 1\n",
    "    current = self.head\n",
    "    while i < pos:\n",
    "        current = current.next\n",
    "        i += 1\n",
    "    return current"
   ]
  },
  {
   "cell_type": "markdown",
   "metadata": {},
   "source": [
    "### 배열 vs 연결 리스트  \n",
    "- 저장공간 : 연속한 위치) vs 임의의 위치\n",
    "- 특정 원소 지칭 :\t매우 간편 vs 선형탐색과 유사\n",
    "- 복잡도 :  O(1) vs O(n)"
   ]
  },
  {
   "cell_type": "code",
   "execution_count": null,
   "metadata": {},
   "outputs": [],
   "source": [
    "# 리스트 순회 메소드 traverse 정의하기\n",
    "# head에서부터 마지막 노드까지(next == none)\n",
    "\n",
    "class Node:\n",
    "    def __init__(self, item):\n",
    "        self.data = item\n",
    "        self.next = None\n",
    "\n",
    "        \n",
    "class LinkedList:\n",
    "    def __init__(self):\n",
    "        self.nodeCount = 0\n",
    "        self.head = None\n",
    "        self.tail = None\n",
    "\n",
    "    def getAt(self, pos):\n",
    "        if pos < 1 or pos > self.nodeCount:\n",
    "            return None\n",
    "        i = 1\n",
    "        curr = self.head\n",
    "        while i < pos:\n",
    "            curr = curr.next\n",
    "            i += 1\n",
    "        return curr\n",
    "\n",
    "    def traverse(self):\n",
    "        answer = []\n",
    "        current = self.head\n",
    "        while current != None:\n",
    "            answer.append(current.data)\n",
    "            current = current.next\n",
    "        return answer"
   ]
  }
 ],
 "metadata": {
  "kernelspec": {
   "display_name": "Python 3",
   "language": "python",
   "name": "python3"
  },
  "language_info": {
   "codemirror_mode": {
    "name": "ipython",
    "version": 3
   },
   "file_extension": ".py",
   "mimetype": "text/x-python",
   "name": "python",
   "nbconvert_exporter": "python",
   "pygments_lexer": "ipython3",
   "version": "3.7.4"
  }
 },
 "nbformat": 4,
 "nbformat_minor": 4
}
