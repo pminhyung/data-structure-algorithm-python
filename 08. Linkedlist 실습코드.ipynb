{
 "cells": [
  {
   "cell_type": "code",
   "execution_count": 2,
   "metadata": {},
   "outputs": [],
   "source": [
    "class Node:\n",
    "\n",
    "    def __init__(self, item):\n",
    "        self.data = item\n",
    "        self.next = None\n",
    "\n",
    "class LinkedList:\n",
    "\n",
    "    def __init__(self):\n",
    "        self.nodeCount = 0\n",
    "        self.head = None\n",
    "        self.tail = None\n",
    "\n",
    "    def getAt(self, pos):\n",
    "        if pos < 1 or pos > self.nodeCount:\n",
    "            return None\n",
    "\n",
    "        i = 1\n",
    "        curr = self.head\n",
    "        while i < pos:\n",
    "            curr = curr.next\n",
    "            i += 1\n",
    "\n",
    "        return curr\n",
    "    \n",
    "    def __repr__(self):\n",
    "        if self.nodeCount == 0:\n",
    "            return 'LinkedList: empty'\n",
    "        s = ''\n",
    "        curr = self.head\n",
    "        while curr is not None:\n",
    "            s+=repr(curr.data)\n",
    "            if curr.next is not None:\n",
    "                s += '-> '\n",
    "            curr = curr.next\n",
    "        return s\n",
    "             \n",
    "    def insertAt(self, pos, newNode):\n",
    "        if pos < 1 or pos > self.nodeCount + 1:\n",
    "            return False\n",
    "\n",
    "        if pos == 1:\n",
    "            newNode.next = self.head\n",
    "            self.head = newNode\n",
    "\n",
    "        else:\n",
    "            if pos == self.nodeCount + 1:\n",
    "                prev = self.tail\n",
    "            else:\n",
    "                prev = self.getAt(pos - 1)\n",
    "            newNode.next = prev.next\n",
    "            prev.next = newNode\n",
    "\n",
    "        if pos == self.nodeCount + 1:\n",
    "            self.tail = newNode\n",
    "\n",
    "        self.nodeCount += 1\n",
    "        return True\n",
    "\n",
    "    def popAt(self, pos):\n",
    "        if pos < 1 or pos > self.nodeCount:\n",
    "            raise IndexError\n",
    "\n",
    "        curr = self.getAt(pos)\n",
    "\n",
    "        if pos==1:\n",
    "            if self.nodeCount==1:\n",
    "                self.head = None\n",
    "                self.tail = None\n",
    "            else:\n",
    "                self.head = curr.next\n",
    "                curr.next = None\n",
    "        else:\n",
    "            prev = self.getAt(pos-1)\n",
    "            if pos == self.nodeCount:\n",
    "                prev.next = None\n",
    "                self.tail = prev\n",
    "            else:\n",
    "                prev.next = curr.next\n",
    "\n",
    "        self.nodeCount-=1\n",
    "        return curr.data\n",
    "\n",
    "    def traverse(self):\n",
    "        result = []\n",
    "        curr = self.head\n",
    "        while curr is not None:\n",
    "            result.append(curr.data)\n",
    "            curr = curr.next\n",
    "        return result\n",
    "\n",
    "def solution(x):\n",
    "    return 0"
   ]
  },
  {
   "cell_type": "code",
   "execution_count": 3,
   "metadata": {},
   "outputs": [
    {
     "data": {
      "text/plain": [
       "True"
      ]
     },
     "execution_count": 3,
     "metadata": {},
     "output_type": "execute_result"
    }
   ],
   "source": [
    "a = Node(67)\n",
    "b = Node(34)\n",
    "c = Node(28)\n",
    "L = LinkedList()\n",
    "L.insertAt(1, a)\n",
    "L.insertAt(2, b)\n",
    "L.insertAt(1, c)"
   ]
  },
  {
   "cell_type": "code",
   "execution_count": 23,
   "metadata": {},
   "outputs": [
    {
     "data": {
      "text/plain": [
       "28"
      ]
     },
     "execution_count": 23,
     "metadata": {},
     "output_type": "execute_result"
    }
   ],
   "source": [
    "L.popAt(1)"
   ]
  },
  {
   "cell_type": "code",
   "execution_count": 25,
   "metadata": {},
   "outputs": [
    {
     "data": {
      "text/plain": [
       "34"
      ]
     },
     "execution_count": 25,
     "metadata": {},
     "output_type": "execute_result"
    }
   ],
   "source": [
    "L.popAt(2)"
   ]
  },
  {
   "cell_type": "code",
   "execution_count": 26,
   "metadata": {},
   "outputs": [
    {
     "data": {
      "text/plain": [
       "67"
      ]
     },
     "execution_count": 26,
     "metadata": {},
     "output_type": "execute_result"
    }
   ],
   "source": [
    "L"
   ]
  },
  {
   "cell_type": "code",
   "execution_count": 27,
   "metadata": {},
   "outputs": [
    {
     "data": {
      "text/plain": [
       "67"
      ]
     },
     "execution_count": 27,
     "metadata": {},
     "output_type": "execute_result"
    }
   ],
   "source": [
    "L.popAt(1)"
   ]
  },
  {
   "cell_type": "code",
   "execution_count": 28,
   "metadata": {},
   "outputs": [
    {
     "data": {
      "text/plain": [
       "LinkedList: empty"
      ]
     },
     "execution_count": 28,
     "metadata": {},
     "output_type": "execute_result"
    }
   ],
   "source": [
    "L"
   ]
  }
 ],
 "metadata": {
  "kernelspec": {
   "display_name": "Python 3",
   "language": "python",
   "name": "python3"
  },
  "language_info": {
   "codemirror_mode": {
    "name": "ipython",
    "version": 3
   },
   "file_extension": ".py",
   "mimetype": "text/x-python",
   "name": "python",
   "nbconvert_exporter": "python",
   "pygments_lexer": "ipython3",
   "version": "3.7.4"
  }
 },
 "nbformat": 4,
 "nbformat_minor": 4
}
