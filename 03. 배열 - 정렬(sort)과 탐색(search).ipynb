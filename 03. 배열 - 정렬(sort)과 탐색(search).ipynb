{
 "cells": [
  {
   "cell_type": "markdown",
   "metadata": {},
   "source": [
    "# 배열 - 정렬(sort)과 탐색(search)"
   ]
  },
  {
   "cell_type": "markdown",
   "metadata": {},
   "source": [
    "### 정렬이란?  \n",
    "복수의 원소로 주어진 데이터를 정해진 기준에 따라 새로 늘어놓는 작업  \n",
    "  \n",
    "Python의 리스트는 내장된 정렬기능이 있다  \n",
    "  \n",
    "파이썬 내장 함수 : `sorted()` \n",
    " \n",
    "정렬된 새로운 리스트를 얻어냄  \n",
    "리스트에 쓸 수 있는 메서드 : `sort()`  \n",
    "  \n",
    "해당 리스트를 정렬  \n",
    "정렬의 순서를 반대로 : reverse=True  "
   ]
  },
  {
   "cell_type": "code",
   "execution_count": null,
   "metadata": {},
   "outputs": [],
   "source": [
    "L = sorted(L, reverse=True)\n",
    "L.sort(reverse=True)"
   ]
  },
  {
   "cell_type": "markdown",
   "metadata": {},
   "source": [
    "### 수치(number)가 아닌 데이터형의 정렬?  \n",
    "문자열을 사전에 등장하는 순서에 따라 정렬한다  \n",
    "  \n",
    "문자열의 길이가 더 길다고 해서 더 큰 문자로 취급하는 것이 아니다  \n",
    "  \n",
    "Python은 대문자가 소문자에 비해서 무조건 우선  \n",
    "  \n",
    "문자열 길이 순서로 정렬하려면?  \n",
    "\n",
    "정렬에 이용하는 키(key)를 지정해서 정렬할 수 있다(lambda)  "
   ]
  },
  {
   "cell_type": "code",
   "execution_count": null,
   "metadata": {},
   "outputs": [],
   "source": [
    "# 예제 1\n",
    "L = ['abcd', 'xyz', 'spam']\n",
    "sorted(L, key=lambda x: len(x))\n",
    "## abcd와 spam의 순서는 처음 정의했을 순서대로 출력\n",
    ">> ['xyz', 'abcd', 'spam']\n",
    "    \n",
    "# 예제 2\n",
    "L = [{'name':'John', 'score':83},\n",
    "    {'name':'Paul', 'score':92}]\n",
    "## lambda를 이용해 레코드들을 이름 순서대로 정렬하기\n",
    "L.sort(key=lambda x: x['name'])\n",
    "## 레코드들을 점수 높은 순으로 정렬\n",
    "L.sort(key=lambda x: x['score'], reverse=True)"
   ]
  },
  {
   "cell_type": "markdown",
   "metadata": {},
   "source": [
    "### 탐색이란?\n",
    "복수의 원소로 이루어진 데이터에서 특정 원소를 찾아내는 작업  \n",
    "  \n",
    "### 탐색알고리즘(1) - `선형탐색(linear serach)`, `순차탐색(sequential search)`  \n",
    "\n",
    "- 순차적으로 모든 요소들을 탐색하여 원하는 값을 찾아냄  \n",
    "- 배열의 길이에 비례하는 시간이 걸리므로 `O(n)`, 최악의 경우에는 배열에 있는 모든 원소를 다 검사해야 할 수 있다.  "
   ]
  },
  {
   "cell_type": "code",
   "execution_count": null,
   "metadata": {},
   "outputs": [],
   "source": [
    "def linear_search(L, x):\n",
    "    i = 0\n",
    "    while(i < len(L) and L[i] != x):\n",
    "        i += 1\n",
    "    if(i < len(L)):\n",
    "        return i\n",
    "    else:\n",
    "        return -1"
   ]
  },
  {
   "cell_type": "markdown",
   "metadata": {},
   "source": [
    "### 탐색알고리즘(2) - `이진탐색(binary search)`\n",
    "- 탐색하려는 배열이 이미 정렬되어 있는 경우에만 적용.  \n",
    "- 크기 순으로 정렬되어 있다는 성질 이용  \n",
    "- 한 번 비교가 일어날 때마다 리스트 반씩 줄임(divide & conquer) `O(log n)`"
   ]
  },
  {
   "cell_type": "markdown",
   "metadata": {},
   "source": [
    "### 결론\n",
    "\n",
    "- 이진탐색이 선형 탐색보다 빠르나 늘 그렇지는 않다  \n",
    "- 이진탐색을 사용하려면 우선 배열을 정렬해야 하는데, 크기 순으로 정렬은 얼마나 복잡한가?\n",
    "- 정렬에 대한 복잡도를 고려해야.  \n",
    "- 일회성 탐색이라면 선형탐색이 효율적일 수도 있다"
   ]
  },
  {
   "cell_type": "markdown",
   "metadata": {},
   "source": [
    "### 이진탐색 연습문제\n",
    "문제 설명\n",
    "리스트 L 과, 그 안에서 찾으려 하는 원소 x 가 인자로 주어질 때, x 와 같은 값을 가지는 원소의 인덱스를 리턴하는 함수 solution() 을 완성하세요. 만약 리스트 L 안에 x 와 같은 값을 가지는 원소가 존재하지 않는 경우에는 -1 을 리턴합니다. 리스트 L 은 자연수 원소들로 이루어져 있으며, 크기 순으로 정렬되어 있다고 가정합니다. 또한, 동일한 원소는 두 번 이상 나타나지 않습니다.\n",
    "\n",
    "예를 들어,\n",
    "L = [2, 3, 5, 6, 9, 11, 15]\n",
    "x = 6\n",
    "의 인자들이 주어지면, L[3] == 6 이므로 3 을 리턴해야 합니다.\n",
    "\n",
    "또 다른 예로,\n",
    "L = [2, 5, 7, 9, 11]\n",
    "x = 4\n",
    "로 주어지면, 리스트 L 내에 4 의 원소가 존재하지 않으므로 -1 을 리턴해야 합니다.\n",
    "\n",
    "이 연습문제에서는 알고리즘의 효율성도 평가합니다. 만약 순차 (선형) 탐색 알고리즘을 구현하는 경우에는 제한 시간 요구사항을 만족하지 못하여 효율성 테스트 케이스들을 통과하지 못할 수도 있습니다."
   ]
  },
  {
   "cell_type": "code",
   "execution_count": null,
   "metadata": {},
   "outputs": [],
   "source": [
    "def binsearch(L, x):\n",
    "    \n",
    "    u = len(L)-1\n",
    "    l = 0\n",
    "    answer = -1\n",
    "    \n",
    "    while l<=u: # 범위의 최소값이 최대값과 같아질 때까지 반복\n",
    "        mid = (u+l) // 2\n",
    "        if L[mid] == x:\n",
    "            answer = mid\n",
    "            break\n",
    "        elif L[mid] > x:\n",
    "            u = mid - 1\n",
    "        elif L[mid] < x:\n",
    "            l = mid + 1\n",
    "    return answer"
   ]
  },
  {
   "cell_type": "code",
   "execution_count": null,
   "metadata": {},
   "outputs": [],
   "source": [
    "# 할당 줄이기\n",
    "def binsearch(L, x):\n",
    "    \n",
    "    u = len(L)-1\n",
    "    l = 0\n",
    "    answer = -1\n",
    "    \n",
    "    while l<=u: # 범위의 최소값이 최대값과 같아질 때까지 반복\n",
    "        mid = (u+l) // 2\n",
    "        if L[mid] > x:\n",
    "            u = mid - 1\n",
    "        elif L[mid] < x:\n",
    "            l = mid + 1\n",
    "        else:\n",
    "            return mid\n",
    "    return -1"
   ]
  }
 ],
 "metadata": {
  "kernelspec": {
   "display_name": "Python 3",
   "language": "python",
   "name": "python3"
  },
  "language_info": {
   "codemirror_mode": {
    "name": "ipython",
    "version": 3
   },
   "file_extension": ".py",
   "mimetype": "text/x-python",
   "name": "python",
   "nbconvert_exporter": "python",
   "pygments_lexer": "ipython3",
   "version": "3.7.4"
  }
 },
 "nbformat": 4,
 "nbformat_minor": 4
}
