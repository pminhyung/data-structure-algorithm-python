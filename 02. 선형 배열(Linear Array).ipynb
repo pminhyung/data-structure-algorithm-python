{
 "cells": [
  {
   "cell_type": "markdown",
   "metadata": {},
   "source": [
    "# 선형 배열(Linear Array)"
   ]
  },
  {
   "cell_type": "markdown",
   "metadata": {},
   "source": [
    "선형배열이란?  \n",
    "- 데이터들이 선(line) 처럼 일렬로 늘어선 형태  \n",
    "  \n",
    "보통 프로그래밍에서 배열(array)라고 하면 같은 종류의 데이터가 줄지어 늘어서 있는 것을 뜻하는데, Python에서는 서로 다른 종류의 데이터 또한 줄 세울 수 있는 리스트(list) 라는 데이터형이 존재한다"
   ]
  },
  {
   "cell_type": "markdown",
   "metadata": {},
   "source": [
    "### 배열(Array)  \n",
    "  \n",
    "- 원소들을 순서대로 늘어놓은 것  \n",
    "ex) 2 7 -2 5 10  \n",
    "  \n",
    "### 리스트(List)  \n",
    "  \n",
    "- 아무런 타입의 데이터라도 배열에 줄을 세울 수 있다.(융통성이 있다)\n",
    "문자열들의 길이가 같지 않아도 된다\n",
    "각 원소가 서로 다른 데이터 타입을 가져도 상관 없다"
   ]
  },
  {
   "cell_type": "markdown",
   "metadata": {},
   "source": [
    "### 리스트(배열) 연산  \n",
    "  \n",
    "리스트의 길이와 관계 없이 빠르게 실행 결과를 보게되는 연산들:  \n",
    "- 리스트의 길이와 무관(상수 시간)  `O(1)` (list 마지막 원소로 하는 작업)  \n",
    "- 원소 덧붙이기 : li.append()  \n",
    "- 끝에서 원소 하나를 꺼내기: li.pop(a): a index 값을 삭제 및 반환  "
   ]
  },
  {
   "cell_type": "markdown",
   "metadata": {},
   "source": [
    "리스트의 길이에 비례해서 오래 걸리는 연산들:  \n",
    "    \n",
    "- 리스트의 길이에 비례(선형 시간) `O(n)` \n",
    "- 원소 삽입하기 : insert(a, b) : a index에 b값을 삽입\n",
    "- 원소 삭제하기 : del(li(a))  : li의 a index값을 삭제\n",
    "- 원소 탐색 : index(b) : b값의 인덱스 위치 반환\n",
    "\n",
    "리스트 원소들의 순서에 아무런 것도 가정할 수 없이 앞에서부터 발견될 때까지 찾아 나가야 하므로 어느 원소를 찾느냐에 대한 확률이 모두 같다면 평균 N / 2 횟수의 비교가 필요하다 (리스트의 길이를 N 이라 할 때).  "
   ]
  },
  {
   "cell_type": "markdown",
   "metadata": {},
   "source": [
    "### 연습문제01\n",
    "리스트 L 과 정수 x 가 인자로 주어질 때, 리스트 내의 올바른 위치에 x 를 삽입하여 그 결과 리스트를 반환하는 함수 solution 을 완성하세요.\n",
    "\n",
    "인자로 주어지는 리스트 L 은 정수 원소들로 이루어져 있으며 크기에 따라 (오름차순으로) 정렬되어 있다고 가정합니다.\n",
    "\n",
    "예를 들어, L = [20, 37, 58, 72, 91] 이고 x = 65 인 경우, 올바른 리턴 값은 [20, 37, 58, 65, 72, 91] 입니다.\n",
    "\n",
    "힌트: 순환문을 이용하여 올바른 위치를 결정하고 insert() 메서드를 이용하여 삽입하는 것이 한 가지 방법입니다.\n",
    "\n",
    "주의: 리스트 내에 존재하는 모든 원소들보다 작거나 모든 원소들보다 큰 정수가 주어지는 경우에 대해서도 올바르게 처리해야 합니다.\n",
    "    "
   ]
  },
  {
   "cell_type": "code",
   "execution_count": 9,
   "metadata": {},
   "outputs": [
    {
     "data": {
      "text/plain": [
       "[1, 2, 3, 4]"
      ]
     },
     "execution_count": 9,
     "metadata": {},
     "output_type": "execute_result"
    }
   ],
   "source": [
    "def solution(L, x):\n",
    "    L.append(x)\n",
    "    return sorted(L)"
   ]
  },
  {
   "cell_type": "markdown",
   "metadata": {},
   "source": [
    "### 연습문제02\n",
    "인자로 주어지는 리스트 L 내에서, 또한 인자로 주어지는 원소 x 가 발견되는 모든 인덱스를 구하여 이 인덱스들로 이루어진 리스트를 반환하는 함수 solution 을 완성하세요.\n",
    "\n",
    "리스트 L 은 정수들로 이루어져 있고 그 순서는 임의로 부여되어 있다고 가정하며, 동일한 원소가 반복하여 들어 있을 수 있습니다. 이 안에 정수 x 가 존재하면 그것들을 모두 발견하여 해당 인덱스들을 리스트로 만들어 반환하고, 만약 존재하지 않으면 하나의 원소로 이루어진 리스트 [-1] 를 반환하는 함수를 완성하세요.\n",
    "\n",
    "예를 들어, L = [64, 72, 83, 72, 54] 이고 x = 72 인 경우의 올바른 리턴 값은 [1, 3] 입니다.\n",
    "또 다른 예를 들어, L = [64, 72, 83, 72, 54] 이고 x = 83 인 경우의 올바른 리턴 값은 [2] 입니다.\n",
    "마지막으로 또 다른 예를 들어, L = [64, 72, 83, 72, 54] 이고 x = 49 인 경우의 올바른 리턴 값은 [-1] 입니다.\n",
    "\n",
    "힌트 1: 리스트의 index() 메서드와 리스트 슬라이싱을 활용하는 것이 한 가지 방법이 됩니다. 리스트 슬라이싱은 아래와 같이 동작합니다.\n",
    "\n",
    "L = [6, 2, 8, 7, 3] 인 경우\n",
    "L[1:3] = [2, 8]\n",
    "L[2:] = [8, 7, 3]\n",
    "L[:3] = [6, 2, 8]\n",
    "\n",
    "힌트 2: 리스트의 index() 메서드는, 인자로 주어지는 원소가 리스트 내에 존재하지 않을 때 ValueError 를 일으킵니다. 이것을 try ... except 로 처리해도 되고, if x in L 과 같은 조건문으로 특정 원소가 리스트 내에 존재하는지를 판단해도 됩니다."
   ]
  },
  {
   "cell_type": "code",
   "execution_count": 12,
   "metadata": {},
   "outputs": [
    {
     "data": {
      "text/plain": [
       "[-1]"
      ]
     },
     "execution_count": 12,
     "metadata": {},
     "output_type": "execute_result"
    }
   ],
   "source": [
    "def solution(L, x):\n",
    "    if x in L:\n",
    "        return [i for i, y in enumerate(L) if y == x]\n",
    "    else:\n",
    "        return [-1]"
   ]
  }
 ],
 "metadata": {
  "kernelspec": {
   "display_name": "Python 3",
   "language": "python",
   "name": "python3"
  },
  "language_info": {
   "codemirror_mode": {
    "name": "ipython",
    "version": 3
   },
   "file_extension": ".py",
   "mimetype": "text/x-python",
   "name": "python",
   "nbconvert_exporter": "python",
   "pygments_lexer": "ipython3",
   "version": "3.7.4"
  }
 },
 "nbformat": 4,
 "nbformat_minor": 4
}
