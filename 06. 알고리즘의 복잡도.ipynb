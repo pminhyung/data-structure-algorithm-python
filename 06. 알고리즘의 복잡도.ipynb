{
 "cells": [
  {
   "cell_type": "markdown",
   "metadata": {},
   "source": [
    "# 알고리즘의 복잡도"
   ]
  },
  {
   "cell_type": "markdown",
   "metadata": {},
   "source": [
    "알조리즘의 복잡도란?  \n",
    "문제 풀이의 방식이 얼마나 복잡하냐 단순하냐를 나타내는 말이 아니다\n",
    "  \n",
    "---\n",
    "    \n",
    "알고리즘이 실행함에 있어, 문제의 크기(일반적으로 데이터 원소의 개수)가 커짐에 따라서 얼마나 큰 시간(또는 공간)을 요구하느냐를 뜻함  \n",
    "  \n",
    "- `시간 복잡도(Time Complexity)` : 문제가 커짐에 따라 이 문제를 해결하는 데 소요되는 시간이 어떤 양상으로 증가하는가 - 강의의 초점\n",
    "\n",
    "- `공간 복잡도(Space Complexity)` : 문제가 커짐에 따라 이 문제를 해결하는 데 소요되는 기억 공간(메모리)의 필요가 어떤 양상으로 증가하는가"
   ]
  },
  {
   "cell_type": "markdown",
   "metadata": {},
   "source": [
    "- `평균 시간 복잡도(Average Time Complexity)` : 임의의 입력 패턴을 가정했을 때 소요되는 시간의 평균\n",
    "- `최악 시간 복잡도(Worst-case Time Complexity)` : 가장 긴 시간을 소요하게 만드는 입력에 따라 소요되는 시간\n",
    "---"
   ]
  },
  {
   "cell_type": "markdown",
   "metadata": {},
   "source": [
    "### Big-O notation : 알고리즘의 복잡도 표현\n",
    "- 점근 표기법(asymptotic notation)을 흔히 이용  \n",
    "  \n",
    "- 이 표기법은 함수의 증가 양상을 대강 파악할 수 있도록 하는데 목적이 있다.  \n",
    "  \n",
    "- 예를들어 데이터 원소의 개수가 n_개라고 할 때, _O(n) 복잡도를 가지는 알고리즘은 원소의 개수에 비례하여 <b>소요 시간<b>이 증가한다.  \n",
    "  \n",
    "- 계수는 중요하지 않다\n",
    "---"
   ]
  },
  {
   "cell_type": "markdown",
   "metadata": {},
   "source": [
    "#### __선형 시간 알고리즘__ - O(n)  \n",
    "n개의 무작위로 나열된 수에서 최댓값을 찾기 위해 선형 탐색 알고리즘을 적용   \n",
    "<b>Average case: O(n)<b>\n",
    "<b>Worst case : O(n)<b>\n",
    "모든 수를 다 돌아봐야 하기 때문에 동일하다  "
   ]
  },
  {
   "cell_type": "markdown",
   "metadata": {},
   "source": [
    "#### __로그 시간 알고리즘__ - O(logn)\n",
    "n개의 크기 순으로 정렬된 수에서 특정 값을 찾기 위해 이진 탐색 알고리즘을 적용  \n",
    "O(logn)의 복잡도를 가지고 문제를 풀 수 있으면 굉장히 효율적이다"
   ]
  },
  {
   "cell_type": "markdown",
   "metadata": {},
   "source": [
    "#### __이차 시간 알고리즘__ - O(n^2)\n",
    "정렬할 요소를 정렬된 요소 중 어느곳에 넣어서 정렬된 상태를 유지할지\n",
    "<b>Best case: O(n) - 이미 정렬이 된 상태<b>\n",
    "<b>Worst case: O(n^2) - 역순으로 늘어서 있을 때<b>"
   ]
  },
  {
   "cell_type": "markdown",
   "metadata": {},
   "source": [
    "#### __병합정렬__ - O(nlogn) - 보다 나은(낮은) 복잡도를 가지는 정렬 알고리즘\n",
    "입력 패턴에 따라 정렬 속오데 차이가 있지만 정렬 문제에 대해 O(nlogn)보다 낮은 복잡도를 갖는 알고리즘은 존재할 수 없음  \n",
    "  \n",
    "<b>정렬할 데이터를 반씩 나누어 각각을 정렬시킴 : O(logn)<b>  \n",
    "<b>정렬된 데이터를 두 묶음씩 한데 합친다 : O(n)<b>  \n",
    "  \n",
    "전체적으로 O(nlogn)이 된다  "
   ]
  },
  {
   "cell_type": "markdown",
   "metadata": {},
   "source": [
    "#### __복잡한 문제__ - 배낭 문제(Knapsack Problem)  \n",
    "  \n",
    "- 배낭에 담을 수 있는 무게의 최댓값이 정해져 있고, 일정 가치와 무게가 있는 짐들을 배낭에 넣을 때, 가치의 합이 최대가 되도록 짐을 고르는 방법을 찾는 문제.\n",
    "  \n",
    "- 복잡도 O(2^n)  \n",
    "  \n",
    "- DP(동적계획법)를 이용하면 간단하게 풀 수 있다.  \n",
    "---"
   ]
  },
  {
   "cell_type": "markdown",
   "metadata": {},
   "source": [
    "#### __요약__\n",
    "__병합 정렬 알고리즘의 복잡도 : O(NlogN)__  \n",
    "  \n",
    "- N 개의 원소로 이루어진 배열이 있습니다. 이 배열을 반씩 나누어 각각 정렬한 뒤 병합 (merge) 하는 방법을 통해서, 소위 divide-and-conquer 방법으로 정렬할 수 있습니다. 이러한 방법으로 데이터를 정렬하는 알고리즘을 병합 정렬 (merge sort) 알고리즘이라고 부릅니다.   \n",
    "\n",
    "---\n",
    "  \n",
    "__이진 탐색 알고리즘의 복잡도 : O(logN)__  \n",
    "- 이미 크기 순으로 정렬되어 있는 N 개의 원소를 가지는 배열로부터, 입력으로 주어진 데이터가 배열 내에 존재하는지, 또한 존재한다면 몇 번째 원소인지를 탐색하는 방법으로서, 배열의 가운데 원소와 입력 데이터를 비교하고 그 데이터와 같은 원소가 존재할 수 없는 절반의 배열을 버리는 방식을 택할 수 있습니다. 이러한 탐색 방법을 이진 탐색 (binary search) 이라고 부릅니다.  \n",
    "  \n",
    "---\n",
    "\n",
    "__선형 탐색 알고리즘의 복잡도 : O(N)__ \n",
    "- N 개의 원소가 무작위 순서로 늘어서 있는 배열 내에, 입력으로 주어진 데이터가 존재하는지, 그리고 존재한다면 몇 번째 위치에 존재하는지를 알아내기 위하여 배열을 처음부터 시작해서 원소를 하나씩 입력 데이터와 비교하는 방법을 적용할 수 있습니다. 이러한 탐색 방법을 선형 탐색 (linear search) 이라고 부릅니다.  \n",
    "  \n",
    "---\n",
    "  \n",
    "__대소비교 행렬 알고리즘의 복잡도: O(N2 )__  \n",
    "- N 개의 수가 입력으로 주어진다고 할 때, 모든 원소들 사이의 대소 관계를 비교하여 N X N 행렬로 나타내고자 합니다. 이 문제를 풀기 위하여 모든 원소의 쌍에 대하여 대소 관계를 비교하여 그것을 행렬에 채우는 방법을 택한다고 할 때.  \n",
    "  \n",
    "---\n",
    "  \n",
    "__행렬 곱셈 (matrix multiplicaiton) 알고리즘의 복잡도 : O(N3 )__  \n",
    "- N 행 N 열의 정사각행렬 A 와 B 가 주어진다고 할 때, 이 두 행렬의 곱 (product) 인 N X N 행렬 C 를 계산하기 위하여 다음과 같은 방법을 쓸 수 있습니다.  \n",
    "  \n",
    "for i in range(N):  \n",
    "&nbsp;&nbsp; for j in range(N):  \n",
    "&nbsp;&nbsp;&nbsp;&nbsp; C[i][j] = 0  \n",
    "&nbsp;&nbsp;&nbsp;&nbsp; for k in range(N):  \n",
    "&nbsp;&nbsp;&nbsp;&nbsp;&nbsp;&nbsp;&nbsp;&nbsp; C[i][j] += A[i][k] * B[k][j]  "
   ]
  },
  {
   "cell_type": "code",
   "execution_count": null,
   "metadata": {},
   "outputs": [],
   "source": []
  }
 ],
 "metadata": {
  "kernelspec": {
   "display_name": "Python 3",
   "language": "python",
   "name": "python3"
  },
  "language_info": {
   "codemirror_mode": {
    "name": "ipython",
    "version": 3
   },
   "file_extension": ".py",
   "mimetype": "text/x-python",
   "name": "python",
   "nbconvert_exporter": "python",
   "pygments_lexer": "ipython3",
   "version": "3.7.4"
  }
 },
 "nbformat": 4,
 "nbformat_minor": 4
}
