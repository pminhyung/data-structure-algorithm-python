{
 "cells": [
  {
   "cell_type": "markdown",
   "metadata": {},
   "source": [
    "# 연결 리스트(Linked list) 2\n",
    "- 원소의 삽입, 삭제, 두 리스트 concat의 연산이 빠르게 이루어 질 수 있다는 점이 연결 리스트가 선형 배열에 비해 가지는 장점이고, 이러한 연산속도가 빠른 영역에 응용 및 적용할 수 있다.\n",
    "- 하지만 데이터 원소들의 사이에 새로운 데이터 원소를 삽입하려면, 앞/뒤 원소들을 연결된 링크를 제거 후, 새로운 원소삽입을 위해 링크들을 조정해야 한다.\n",
    "- 이러한 작업을 위한 연산을 연습할 수 있다\n",
    "---"
   ]
  },
  {
   "cell_type": "markdown",
   "metadata": {},
   "source": [
    "### 연결 리스트 연산 - __원소의 삽입 (insertAt메소드)__\n",
    "- 삽입할 노드의 링크가 pos번째의 노드를 가리키도록 수정 (newNode.next = prev.next)\n",
    "- 삽입할 노드를 pos-1번째가 가리키도록 수정 (prev.next = newNode)\n",
    "- 마지막으로 nodeCount를 1만큼 증가시킨다 (self.nodeCount += 1)\n",
    "\n",
    "#### 주의사항\n",
    "- 삽입하려는 위치가 리스트 앞일 때 : prev 없으므로 __self.head 조정__\n",
    "- 삽입하려는 위치가 리스트 뒤일 때(pos == nodeCount + 1) : __prev = self.tail 이용__, __self.tail의 조정__\n",
    "- 빈 리스트에 삽입할 때 : 위의 두 조건으로 해결됨"
   ]
  },
  {
   "cell_type": "code",
   "execution_count": null,
   "metadata": {},
   "outputs": [],
   "source": [
    "    def insertAt(self, pos, newNode):\n",
    "        if pos < 1 or pos > self.nodeCount + 1: # pos유효성 검사\n",
    "            return False\n",
    "\n",
    "        if pos == 1: # 리스트 앞일 때\n",
    "            newNode.next = self.head\n",
    "            self.head = newNode\n",
    "\n",
    "        else: \n",
    "            if pos == self.nodeCount + 1: # 리스트 뒤일 때 tail 이용\n",
    "                prev = self.tail\n",
    "            else:\n",
    "                prev = self.getAt(pos - 1) # 일반적인 경우\n",
    "            newNode.next = prev.next # None\n",
    "            prev.next = newNode\n",
    "\n",
    "        if pos == self.nodeCount + 1: # 리스트 뒤일 때 tail 조정\n",
    "            self.tail = newNode\n",
    "\n",
    "        self.nodeCount += 1\n",
    "        return True"
   ]
  },
  {
   "cell_type": "markdown",
   "metadata": {},
   "source": [
    "### 연결 리스트 원소 삽입의 복잡도\n",
    "- 맨 앞에 삽입하는 경우 : O(1) - head를 이용하여 상수시간\n",
    "- 중간에 삽입하는 경우 : O(n) - 리스트의 길이만큼 비례해서 커지기 때문에 linear type\n",
    "- 맨 뒤에 삽입하는 경우 : O(1) - tail을 이용하여 상수시간\n",
    "---"
   ]
  },
  {
   "cell_type": "markdown",
   "metadata": {},
   "source": [
    "### 연결 리스트 연산 - __원소의 삭제 (popAt 메소드)__\n",
    "- prev = self.getAt(pos-1)\n",
    "- curr = self.getAt(pos)\n",
    "- prev.next = curr.next\n",
    "- return curr.data\n",
    "- nodeCount -= 1"
   ]
  },
  {
   "cell_type": "markdown",
   "metadata": {},
   "source": [
    "#### 주의사항\n",
    "- 삭제 node가 앞일 때 : prev없으므로 self.head 변경\n",
    "- 삭제 node가 뒤일 때 (pos == nodeCount) : prev = getAt(pos-1), self.tail의 변경\n",
    "- 유일한 노드를 삭제할 때 : self.head = None, self.tail = None"
   ]
  },
  {
   "cell_type": "code",
   "execution_count": null,
   "metadata": {},
   "outputs": [],
   "source": [
    "def popAt(self, pos):\n",
    "        if pos < 1 or pos > self.nodeCount: # pos 유효성 검사\n",
    "            raise IndexError\n",
    "\n",
    "        curr = self.getAt(pos)\n",
    "\n",
    "        if pos==1:\n",
    "            if self.nodeCount==1: # 유일한 원소 삭제 시\n",
    "                self.head = None\n",
    "                self.tail = None\n",
    "            else:\n",
    "                self.head = curr.next # 여러 원소 중 첫번째 원소삭제\n",
    "                curr.next = None\n",
    "        else:\n",
    "            prev = self.getAt(pos-1)\n",
    "            if pos == self.nodeCount: # 마지막 원소 삭제\n",
    "                prev.next = None\n",
    "                self.tail = prev\n",
    "            else:\n",
    "                prev.next = curr.next # 중간 원소 삭제\n",
    "\n",
    "        self.nodeCount-=1\n",
    "        return curr.data\n",
    "    \n",
    "# 오답노트 : none(X), None(O), nodeCount단독변수(X), self.nodeCount(O)"
   ]
  },
  {
   "cell_type": "markdown",
   "metadata": {},
   "source": [
    "#### 연결 리스트 원소 삭제의 복잡도\n",
    "- 맨 앞에 삽입하는 경우 : O(1)\n",
    "- 중간에 삽입하는 경우 : O(n) - 리스트의 길이만큼 비례해서 커지기 때문에 linear type\n",
    "- 맨 뒤에 삽입하는 경우 : O(n) - 앞에서부터 찾아와야 하기 때문에\n",
    "---"
   ]
  },
  {
   "cell_type": "markdown",
   "metadata": {},
   "source": [
    "### 연결 리스트 연산 - __두 리스트의 연결 (concat 메소드)__\n",
    "- self.tail.next = L.head : 첫째 리스트의 tail.next를 두번째 리스트 head에 연결\n",
    "- self.tail = L.tail : 두번째 리스트 tail을 전체 리스트 tail로 설정\n",
    "- self.nodeCount + L.nodeCount : 두 리스트 nodeCount 합으로 전체 길이 구하기"
   ]
  },
  {
   "cell_type": "markdown",
   "metadata": {},
   "source": [
    "#### 주의사항\n",
    "- 두번째 합칠 노드가 비어있을 경우 L.tail이 Null이기 때문에 이를 처리(if 사용)"
   ]
  },
  {
   "cell_type": "code",
   "execution_count": 2,
   "metadata": {},
   "outputs": [],
   "source": [
    "def concat(self, L):\n",
    "    self.tail.next = L.head\n",
    "    if L.tail:\n",
    "        self.tail = L.tail\n",
    "    self.nodeCount += L.nodeCount"
   ]
  }
 ],
 "metadata": {
  "kernelspec": {
   "display_name": "Python 3",
   "language": "python",
   "name": "python3"
  },
  "language_info": {
   "codemirror_mode": {
    "name": "ipython",
    "version": 3
   },
   "file_extension": ".py",
   "mimetype": "text/x-python",
   "name": "python",
   "nbconvert_exporter": "python",
   "pygments_lexer": "ipython3",
   "version": "3.7.4"
  }
 },
 "nbformat": 4,
 "nbformat_minor": 4
}
