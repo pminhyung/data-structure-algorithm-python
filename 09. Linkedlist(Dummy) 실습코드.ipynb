{
 "cells": [
  {
   "cell_type": "code",
   "execution_count": 24,
   "metadata": {},
   "outputs": [],
   "source": [
    "class Node:\n",
    "\n",
    "    def __init__(self, item):\n",
    "        self.data = item\n",
    "        self.next = None\n",
    "\n",
    "\n",
    "class LinkedList:\n",
    "\n",
    "    def __init__(self):\n",
    "        self.nodeCount = 0\n",
    "        self.head = Node(None)\n",
    "        self.tail = None\n",
    "        self.head.next = self.tail\n",
    "        \n",
    "        \n",
    "    def __repr__(self):\n",
    "        if self.nodeCount == 0:\n",
    "            return 'LinkedList: empty'\n",
    "        s = ''\n",
    "        curr = self.head\n",
    "        while curr is not None:\n",
    "            s+=repr(curr.data)\n",
    "            if curr.next is not None:\n",
    "                s += '-> '\n",
    "            curr = curr.next\n",
    "        return s\n",
    "\n",
    "    \n",
    "    def traverse(self):\n",
    "        result = []\n",
    "        curr = self.head\n",
    "        while curr.next:\n",
    "            curr = curr.next\n",
    "            result.append(curr.data)\n",
    "        return result\n",
    "\n",
    "\n",
    "    def getAt(self, pos):\n",
    "        if pos < 0 or pos > self.nodeCount:\n",
    "            return None\n",
    "\n",
    "        i = 0\n",
    "        curr = self.head\n",
    "        while i < pos:\n",
    "            curr = curr.next\n",
    "            i += 1\n",
    "\n",
    "        return curr\n",
    "\n",
    "\n",
    "    def insertAfter(self, prev, newNode):\n",
    "        newNode.next = prev.next\n",
    "        if prev.next is None:\n",
    "            self.tail = newNode\n",
    "        prev.next = newNode\n",
    "        self.nodeCount += 1\n",
    "        return True\n",
    "\n",
    "\n",
    "    def insertAt(self, pos, newNode):\n",
    "        if pos < 1 or pos > self.nodeCount + 1:\n",
    "            return False\n",
    "\n",
    "        if pos != 1 and pos == self.nodeCount + 1:\n",
    "            prev = self.tail\n",
    "        else:\n",
    "            prev = self.getAt(pos - 1)\n",
    "        return self.insertAfter(prev, newNode)\n",
    "\n",
    "\n",
    "    def popAfter(self, prev):\n",
    "        if prev.next == None: # prev만 존재 시\n",
    "            return None\n",
    "        \n",
    "        curr = prev.next\n",
    "        if curr.next == None: # 마지막 원소삭제 시\n",
    "            prev.next = None\n",
    "            self.tail = prev\n",
    "        else:\n",
    "            prev.next = curr.next\n",
    "        self.nodeCount -= 1\n",
    "        return curr.data\n",
    "        \n",
    "        \n",
    "    def popAt(self, pos):\n",
    "        if pos < 1 or pos > self.nodeCount:\n",
    "            raise IndexError\n",
    "        prev = self.getAt(pos-1)\n",
    "        return self.popAfter(prev)"
   ]
  },
  {
   "cell_type": "code",
   "execution_count": 25,
   "metadata": {},
   "outputs": [
    {
     "data": {
      "text/plain": [
       "True"
      ]
     },
     "execution_count": 25,
     "metadata": {},
     "output_type": "execute_result"
    }
   ],
   "source": [
    "a = Node(67)\n",
    "b = Node(34)\n",
    "c = Node(28)\n",
    "L = LinkedList()\n",
    "L.insertAt(1, a)\n",
    "L.insertAt(2, b)\n",
    "L.insertAt(1, c)"
   ]
  }
 ],
 "metadata": {
  "kernelspec": {
   "display_name": "Python 3",
   "language": "python",
   "name": "python3"
  },
  "language_info": {
   "codemirror_mode": {
    "name": "ipython",
    "version": 3
   },
   "file_extension": ".py",
   "mimetype": "text/x-python",
   "name": "python",
   "nbconvert_exporter": "python",
   "pygments_lexer": "ipython3",
   "version": "3.7.4"
  }
 },
 "nbformat": 4,
 "nbformat_minor": 4
}
